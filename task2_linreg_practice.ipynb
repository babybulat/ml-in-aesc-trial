{
  "cells": [
    {
      "cell_type": "markdown",
      "metadata": {
        "id": "view-in-github",
        "colab_type": "text"
      },
      "source": [
        "<a href=\"https://colab.research.google.com/github/babybulat/ml-in-aesc-trial/blob/main/task2_linreg_practice.ipynb\" target=\"_parent\"><img src=\"https://colab.research.google.com/assets/colab-badge.svg\" alt=\"Open In Colab\"/></a>"
      ]
    },
    {
      "cell_type": "markdown",
      "metadata": {
        "id": "VTr81nGN-IXq"
      },
      "source": [
        "# ДЗ Линейная регрессия\n",
        "\n",
        "В данном задании мы рассмотрим набор данных об учащихся, собранный в 2006 году в одной из школ Португалии. Данные представлены в неудобном для машинного обучения виде, и содержат мусор. Ваша задача &mdash; привести их к надлежащему виду и обучить на них простую модель.\n",
        "\n",
        "Данные состоят из четырех файлов:\n",
        "- data.csv &mdash; основная таблица с информацией о учащихся\n",
        "- scores.csv &mdash; список финальных оценок по одному из предметов (20-балльная шкала переведенная в проценты)\n",
        "- attendance.csv &mdash; таблица посещений занятий по этому предмету\n",
        "- school_support.txt &mdash; список учащихся, которым оказывается финансовая поддержка\n",
        "\n",
        "Ваша задача &mdash; построить модель для предсказания финальных оценок исходя из всех остальных данных и проверить качество ее работы с помощью кросс-валидации. В качестве алгоритма мы будем использовать линейную регрессию\n",
        "\n",
        "Расшифровка столбцов в data.csv для справки:\n",
        "- age &mdash; возраст\n",
        "- Medu &mdash; уровень образования матери (по некоторой условной шкале)\n",
        "- Fedu &mdash; уровень образования отца (по некоторой условной шкале)\n",
        "- traveltime &mdash; время в пути до школы (1 – < 15 мин., 2 – от 15 до 30 мин., 3 – от 30 мин. to 1 ч.\n",
        "или 4 – > 1 ч.)\n",
        "- studytime &mdash; время, затрачиваемое на занятия вне школы (1 – < 2 ч., 2 – от 2 до 5 ч., 3 – от 5 до 10 ч. или 4 – > 10 ч.)\n",
        "- famrel &mdash; насколько хорошие отношения в семье у учащегося (по некоторой условной шкале)\n",
        "- freetime &mdash; количество свободного времени вне школы (по некоторой условной шкале)\n",
        "- goout &mdash; время, затрачиваемое на общение с друзьями (по некоторой условной шкале)\n",
        "- Dalc &mdash; количество употребления алкоголя в учебные дни (по некоторой условной шкале)\n",
        "- Walc &mdash; количество употребления алкоголя в неучебные дни (по некоторой условной шкале)\n",
        "- health &mdash; уровень здоровья (по некоторой условной шкале)\n",
        "- sex_M &mdash; пол: мужской (1) или женский (0)\n",
        "- address_U &mdash; живет ли учащийся в городе (1) или в пригороде (0)\n",
        "- famsize_LE3 &mdash; размер семьи: не больше 3 человек (1) или больше (0)\n",
        "- Pstatus_T &mdash; живут ли родители вместе (1) или отдельно (0)\n",
        "- nursery &mdash; посещал ли учащийся детский сад\n",
        "- plans_university &mdash; планирует ли учащийся поступать в университет (-1 или 1)\n",
        "- past_failures &mdash; количество неудовлетворительных оценок по другим предметам ранее (от 0 до 4)\n",
        "\n",
        "*Примечание. Несколько признаков в данных содержат ошибки/проблемы/некорректности. Эти проблемы нужно исправить. Для\n",
        "проверки &mdash; всего в данных таких проблем четыре.*"
      ]
    },
    {
      "cell_type": "markdown",
      "metadata": {
        "id": "XPamJl-O-IXt"
      },
      "source": [
        "### Задача 1: сломанный признак (а может и не один)\n",
        "__(1 балл)__\n",
        "\n",
        "Загрузите таблицу data.csv.\n",
        "\n",
        "Найдите в данных сломанный признак (он не соответствует описанию) и исправьте его."
      ]
    },
    {
      "cell_type": "code",
      "execution_count": 3,
      "metadata": {
        "collapsed": true,
        "id": "oHqQ8G5U-IXu"
      },
      "outputs": [],
      "source": [
        "import pandas as pd\n",
        "\n",
        "df = pd.read_csv('data.csv')\n",
        "\n",
        "\n",
        "df['plans_university'] = df['plans_universitypast_failures'].apply(lambda x: 1 if x > 0 else -1)\n",
        "df['past_failures'] = df['plans_universitypast_failures'].apply(lambda x: abs(x) % 10)\n",
        "\n",
        "df = df.drop('plans_universitypast_failures', axis=1)\n",
        "\n",
        "df.to_csv('data1.csv', index=False)\n"
      ]
    },
    {
      "cell_type": "markdown",
      "metadata": {
        "id": "OXog0iuV-IXv"
      },
      "source": [
        "### Задача 2: пропуски в данных\n",
        "__(1 балл)__\n",
        "\n",
        "Проверьте, есть ли в данных пропуски (значения NaN). Замените все пропущенные значения на среднее значение этого признака по столбцу.\n",
        "\n",
        "*Hint: изучите в pandas функции loc, isnull, а также передачу булевых массивов в качестве индексов.*"
      ]
    },
    {
      "cell_type": "code",
      "execution_count": 4,
      "metadata": {
        "collapsed": true,
        "id": "eeikgris-IXv"
      },
      "outputs": [],
      "source": [
        "import pandas as pd\n",
        "\n",
        "df = pd.read_csv('data1.csv')\n",
        "\n",
        "df = df.fillna(df.mean())\n",
        "\n",
        "df.to_csv('data2.csv', index=False)"
      ]
    },
    {
      "cell_type": "markdown",
      "metadata": {
        "id": "7ss18d7Z-IXw"
      },
      "source": [
        "### Задача 3: нормализация данных\n",
        "__(1 балл)__\n",
        "\n",
        "Нормализуйте данные любым способом"
      ]
    },
    {
      "cell_type": "code",
      "execution_count": 5,
      "metadata": {
        "collapsed": true,
        "id": "E9TQB9fk-IXw"
      },
      "outputs": [],
      "source": [
        "import pandas as pd\n",
        "import numpy as np\n",
        "from sklearn.preprocessing import StandardScaler, MinMaxScaler\n",
        "\n",
        "df = pd.read_csv('data2.csv')\n",
        "\n",
        "numeric_columns = ['age', 'Medu', 'Fedu', 'traveltime', 'studytime', 'famrel', 'freetime',\n",
        "                  'goout', 'Dalc', 'Walc', 'health', 'past_failures']\n",
        "scaler = MinMaxScaler()\n",
        "df_normalized = df.copy()\n",
        "df_normalized[numeric_columns] = scaler.fit_transform(df[numeric_columns])\n",
        "\n",
        "df_normalized.to_csv('data3.csv', index=False)\n"
      ]
    },
    {
      "cell_type": "markdown",
      "metadata": {
        "id": "Iaj_5D0f-IXx"
      },
      "source": [
        "### Задача 4: кросс-валидация для исходных данных\n",
        "__(1 балл)__\n",
        "\n",
        "Загрузите файл scores.csv и протестируйте, как линейная регрессия предсказывает ответ сейчас (с помощью кросс-валидации).\n",
        "\n",
        "Кроссвалидацию сделайте по 4 разбивкам. Выведите качество в каждом их разбиений.\n",
        "\n",
        "*Hint: воспользуйтесь sklearn.linear_model и sklearn.model_selection.*"
      ]
    },
    {
      "cell_type": "code",
      "execution_count": 6,
      "metadata": {
        "colab": {
          "base_uri": "https://localhost:8080/"
        },
        "id": "XJznz9ks-IXx",
        "outputId": "fccde4f4-1a7d-4b7f-f2f6-14e6f79cd633"
      },
      "outputs": [
        {
          "output_type": "stream",
          "name": "stdout",
          "text": [
            "РЕЗУЛЬТАТЫ КРОСС-ВАЛИДАЦИИ:\n",
            "--------------------------------------------------\n",
            "Разбиение 1:\n",
            "  R² (коэффициент детерминации) = 0.1751\n",
            "  MSE (среднеквадратичная ошибка) = 261.8482\n",
            "  RMSE (корень из MSE) = 16.1817\n",
            "  MAE (средняя абсолютная ошибка) = 11.6456\n",
            "-----------------------------------\n",
            "Разбиение 2:\n",
            "  R² (коэффициент детерминации) = 0.3115\n",
            "  MSE (среднеквадратичная ошибка) = 237.8080\n",
            "  RMSE (корень из MSE) = 15.4210\n",
            "  MAE (средняя абсолютная ошибка) = 11.3518\n",
            "-----------------------------------\n",
            "Разбиение 3:\n",
            "  R² (коэффициент детерминации) = 0.2432\n",
            "  MSE (среднеквадратичная ошибка) = 171.8815\n",
            "  RMSE (корень из MSE) = 13.1104\n",
            "  MAE (средняя абсолютная ошибка) = 9.2494\n",
            "-----------------------------------\n",
            "Разбиение 4:\n",
            "  R² (коэффициент детерминации) = 0.0806\n",
            "  MSE (среднеквадратичная ошибка) = 230.7029\n",
            "  RMSE (корень из MSE) = 15.1889\n",
            "  MAE (средняя абсолютная ошибка) = 10.6803\n",
            "-----------------------------------\n"
          ]
        }
      ],
      "source": [
        "import pandas as pd\n",
        "import numpy as np\n",
        "from sklearn.linear_model import LinearRegression\n",
        "from sklearn.model_selection import cross_val_score, KFold\n",
        "from sklearn.metrics import mean_squared_error, r2_score, mean_absolute_error\n",
        "import matplotlib.pyplot as plt\n",
        "\n",
        "df_features = pd.read_csv('data3.csv')\n",
        "\n",
        "scores = pd.read_csv('scores.csv', header=None)[0]\n",
        "\n",
        "\n",
        "\n",
        "\n",
        "\n",
        "X = df_features\n",
        "y = scores\n",
        "\n",
        "model = LinearRegression()\n",
        "\n",
        "kfold = KFold(n_splits=4, shuffle=True, random_state=42)\n",
        "\n",
        "cv_scores_r2 = cross_val_score(model, X, y, cv=kfold, scoring='r2')\n",
        "cv_scores_mse = cross_val_score(model, X, y, cv=kfold, scoring='neg_mean_squared_error')\n",
        "cv_scores_mae = cross_val_score(model, X, y, cv=kfold, scoring='neg_mean_absolute_error')\n",
        "\n",
        "print(\"РЕЗУЛЬТАТЫ КРОСС-ВАЛИДАЦИИ:\")\n",
        "print(\"-\" * 50)\n",
        "\n",
        "for i in range(4):\n",
        "    print(f\"Разбиение {i+1}:\")\n",
        "    print(f\"  R² (коэффициент детерминации) = {cv_scores_r2[i]:.4f}\")\n",
        "    print(f\"  MSE (среднеквадратичная ошибка) = {-cv_scores_mse[i]:.4f}\")\n",
        "    print(f\"  RMSE (корень из MSE) = {np.sqrt(-cv_scores_mse[i]):.4f}\")\n",
        "    print(f\"  MAE (средняя абсолютная ошибка) = {-cv_scores_mae[i]:.4f}\")\n",
        "    print(\"-\" * 35)\n"
      ]
    },
    {
      "cell_type": "markdown",
      "metadata": {
        "id": "q5wO30Tn-IXy"
      },
      "source": [
        "### Задача 5: полные данные\n",
        "__(2 балла)__\n",
        "\n",
        "Воспользуйтесь файлами attendance.csv и school_support.txt для того, чтобы добавить новые признаки в данные. Желательно по максимуму использовать возможности pandas для упрощения преобразований.\n",
        "\n",
        "school_suport число в строке значит что i-ый школьник из исходной таблицы получал мат помощь (обратите внимание что строк в файле меньше, подумайте как правильно импортировать данные)\n",
        "\n",
        "Добавьте данные таким образом, чтобы качество выросло"
      ]
    },
    {
      "cell_type": "code",
      "execution_count": 14,
      "metadata": {
        "collapsed": true,
        "id": "NVZhgm0S-IXy",
        "colab": {
          "base_uri": "https://localhost:8080/"
        },
        "outputId": "3bb047c5-2727-43bf-9fcc-a0bae57f3f1b"
      },
      "outputs": [
        {
          "output_type": "stream",
          "name": "stderr",
          "text": [
            "/tmp/ipython-input-758728644.py:7: FutureWarning: Downcasting behavior in `replace` is deprecated and will be removed in a future version. To retain the old behavior, explicitly call `result.infer_objects(copy=False)`. To opt-in to the future behavior, set `pd.set_option('future.no_silent_downcasting', True)`\n",
            "  attendance = attendance.replace({\"+\": 1}).fillna(0)\n"
          ]
        }
      ],
      "source": [
        "import pandas as pd\n",
        "import numpy as np\n",
        "\n",
        "df = pd.read_csv('data3.csv')\n",
        "\n",
        "attendance = pd.read_csv('attendance.csv', sep=\";\")\n",
        "attendance = attendance.replace({\"+\": 1}).fillna(0)\n",
        "positions = pd.read_csv('school_support.txt', names = [\"pos\"])\n",
        "df[\"support\"] = 0\n",
        "df.loc[positions[\"pos\"]-1, \"support\"] = 1\n",
        "\n",
        "attendance[\"sum\"] = attendance.sum(axis=1)\n",
        "df[\"attendance\"] = attendance[\"sum\"]\n",
        "\n",
        "df.to_csv('data4.csv', index=False)\n"
      ]
    },
    {
      "cell_type": "markdown",
      "metadata": {
        "id": "_jBokNBN-IXy"
      },
      "source": [
        "### Задача 6: борьба с выбросами\n",
        "__(1.5 балла)__\n",
        "\n",
        "Качество предсказания может ухудшаться, если в данных присутствуют корректные значения признаков (с точки зрения чтения данных и применения методов), но не соответствующие реальным объектам. Например, данные могли быть введены в неверном формате, а потом слишком грубо приведены к общему виду, из-за чего ошибка не была замечена.\n",
        "Попробуем от такого избавиться &mdash; а для этого такие объекты нужно сначала найти. Конечно, нам еще недоступны многие продвинутые способы, но давайте попробуем обойтись простыми.\n",
        "\n",
        "Первый способ это сделать &mdash; посмотреть для каждого признака на распределение его значений и проверить крайние значения на правдоподобность. (постройте гистограммы для признаков, как минимум для подозрительных)\n",
        "\n",
        "*Hint 1: используйте функцию DataFrame.hist*\n",
        "\n",
        "*Hint 2: в описании датасета выше есть информация, необходимая для восстановления правильных значений*"
      ]
    },
    {
      "cell_type": "code",
      "execution_count": null,
      "metadata": {
        "collapsed": true,
        "id": "Gm6uKGA4-IXy"
      },
      "outputs": [],
      "source": [
        "# Your code here\n",
        "# ..."
      ]
    },
    {
      "cell_type": "markdown",
      "metadata": {
        "id": "zSpuLQLG-IXz"
      },
      "source": [
        "__(1.5 балла)__"
      ]
    },
    {
      "cell_type": "markdown",
      "metadata": {
        "id": "8HMt0MCp-IXz"
      },
      "source": [
        "Другой простой способ найти выбросы &mdash; сделать предсказание и посчитать ошибку на каждом объекте по отдельности и посмотреть на объекты с наибольшей ошибкой. Обучите линейную регрессию (функция fit) и для каждого объекта посчитайте среднеквадратичное отклонение. Постройте гистограмму распределения ошибок. Посмотрите на гистограмму и удалите из выборки те объекты на которых ошибка слишком большая.\n",
        "\n",
        "Обратите внимание, что просто удалять все объекты с высокой ошибкой нельзя &mdash; это, конечно, хороший способ добиться меньшей ошибки (на данной выборке), но одновременно вы ухудшите обобщающую способность алгоритма. Вместо этого вам нужно найти однозначно ошибочные записи и их исправить.\n",
        "\n",
        "*Hint: возможно, все проблемы уже были найдены первым способом; для проверки &mdash; в сумме здесь нужно исправить 3 проблемы.*"
      ]
    },
    {
      "cell_type": "markdown",
      "metadata": {
        "id": "AaXzvvna-IXz"
      },
      "source": [
        "Для поиска ошибки на одном отдельном обьекте придётся обучить линейную регрессию руками. Частичный пример, допишите код. Постройте гистограмму распределения ошибок"
      ]
    },
    {
      "cell_type": "code",
      "execution_count": null,
      "metadata": {
        "id": "zQiEXs1Q-IXz",
        "outputId": "cd270155-cbbb-4c22-ca85-9659be45e0dd"
      },
      "outputs": [
        {
          "ename": "SyntaxError",
          "evalue": "invalid syntax (3289234131.py, line 4)",
          "output_type": "error",
          "traceback": [
            "\u001b[1;36m  Input \u001b[1;32mIn [3]\u001b[1;36m\u001b[0m\n\u001b[1;33m    prediction = #calculate prediction for one object for vector x\u001b[0m\n\u001b[1;37m                 ^\u001b[0m\n\u001b[1;31mSyntaxError\u001b[0m\u001b[1;31m:\u001b[0m invalid syntax\n"
          ]
        }
      ],
      "source": [
        "import sklearn\n",
        "from sklearn import linear_model\n",
        "regression = linear_model.LinearRegression().fit(data, result) #create model and train it\n",
        "prediction = #calculate prediction for one object for vector x\n",
        "error = (prediction - y)**2 #simple error - square error"
      ]
    },
    {
      "cell_type": "code",
      "execution_count": null,
      "metadata": {
        "id": "vP7HoN4V-IX0"
      },
      "outputs": [],
      "source": [
        "# Your code here\n",
        "# ..."
      ]
    },
    {
      "cell_type": "markdown",
      "metadata": {
        "id": "G228R1Ab-IX0"
      },
      "source": [
        "### Финальное предсказание и отчёт (1 балл)\n",
        "\n",
        "Проведите предсказание еще раз и сравните качество с исходным. Запишите свои наблюдения - как изменялось качество обучения модели при использовании разных модификаций данных."
      ]
    },
    {
      "cell_type": "code",
      "execution_count": null,
      "metadata": {
        "collapsed": true,
        "id": "s8E5QvI4-IX0"
      },
      "outputs": [],
      "source": [
        "# Your code here\n",
        "# ..."
      ]
    }
  ],
  "metadata": {
    "kernelspec": {
      "display_name": "Python 3 (ipykernel)",
      "language": "python",
      "name": "python3"
    },
    "language_info": {
      "codemirror_mode": {
        "name": "ipython",
        "version": 3
      },
      "file_extension": ".py",
      "mimetype": "text/x-python",
      "name": "python",
      "nbconvert_exporter": "python",
      "pygments_lexer": "ipython3",
      "version": "3.9.12"
    },
    "colab": {
      "provenance": [],
      "include_colab_link": true
    }
  },
  "nbformat": 4,
  "nbformat_minor": 0
}